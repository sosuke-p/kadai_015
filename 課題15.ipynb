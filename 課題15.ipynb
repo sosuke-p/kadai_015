{
  "nbformat": 4,
  "nbformat_minor": 0,
  "metadata": {
    "colab": {
      "provenance": [],
      "authorship_tag": "ABX9TyOLWZ1/DUVHmboMJ/rD1ZSH",
      "include_colab_link": true
    },
    "kernelspec": {
      "name": "python3",
      "display_name": "Python 3"
    },
    "language_info": {
      "name": "python"
    }
  },
  "cells": [
    {
      "cell_type": "markdown",
      "metadata": {
        "id": "view-in-github",
        "colab_type": "text"
      },
      "source": [
        "<a href=\"https://colab.research.google.com/github/sosuke-p/kadai_015/blob/main/%E8%AA%B2%E9%A1%8C15.ipynb\" target=\"_parent\"><img src=\"https://colab.research.google.com/assets/colab-badge.svg\" alt=\"Open In Colab\"/></a>"
      ]
    },
    {
      "cell_type": "code",
      "execution_count": 2,
      "metadata": {
        "colab": {
          "base_uri": "https://localhost:8080/"
        },
        "id": "aac3RyO5w92J",
        "outputId": "72b16be4-158d-4a11-864c-9f450b3b9b1e"
      },
      "outputs": [
        {
          "output_type": "stream",
          "name": "stdout",
          "text": [
            "中筋\n",
            "27\n"
          ]
        }
      ],
      "source": [
        "#初回提出\n",
        "class Human:\n",
        "    def __init__(self):\n",
        "        self.name = \"\"\n",
        "        self.age = \"\"\n",
        "\n",
        "#メソッドを定義する(name)\n",
        "    def set_name(self,name):\n",
        "        self.name = name\n",
        "    def show_name(self):\n",
        "        print(self.name)\n",
        "\n",
        "#メソッドを定義する(age)\n",
        "    def set_age(self,age):\n",
        "        self.age = age\n",
        "    def show_age(self):\n",
        "        print(self.age)\n",
        "\n",
        "#インスタンス化する\n",
        "printinfo = Human()\n",
        "\n",
        "#メソッドにアクセスし実行する(name)\n",
        "printinfo.set_name(\"中筋\")\n",
        "printinfo.show_name()\n",
        "\n",
        "#メソッドにアクセスし実行する(age)\n",
        "printinfo.set_age(27)\n",
        "printinfo.show_age()"
      ]
    },
    {
      "cell_type": "code",
      "source": [
        "#再提出\n",
        "class Human:\n",
        "\n",
        "    def __init__(self, name, age):\n",
        "        self.name = name\n",
        "        self.age = age\n",
        "\n",
        "    def printinfo(self):\n",
        "        print(self.name)\n",
        "        print(self.age)\n",
        "\n",
        "#インスタンス化する\n",
        "printinfo = Human(\"中筋\",27)\n",
        "\n",
        "#属性にアクセスし、値を出力する\n",
        "print(printinfo.name)\n",
        "print(printinfo.age)\n",
        "\n"
      ],
      "metadata": {
        "colab": {
          "base_uri": "https://localhost:8080/"
        },
        "id": "VxfA9CKzsU4m",
        "outputId": "0ba6473e-9bb6-4ab3-c177-dadd81115fa6"
      },
      "execution_count": 2,
      "outputs": [
        {
          "output_type": "stream",
          "name": "stdout",
          "text": [
            "中筋\n",
            "27\n"
          ]
        }
      ]
    }
  ]
}